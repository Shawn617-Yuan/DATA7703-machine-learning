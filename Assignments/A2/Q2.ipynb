{
 "cells": [
  {
   "cell_type": "markdown",
   "metadata": {},
   "source": [
    "(a)"
   ]
  },
  {
   "cell_type": "code",
   "execution_count": 7,
   "metadata": {},
   "outputs": [],
   "source": [
    "from sklearn.datasets import fetch_california_housing\n",
    "from sklearn.model_selection import train_test_split\n",
    "\n",
    "dataset = fetch_california_housing()\n",
    "d = dataset.data.shape[1]\n",
    "\n",
    "X = dataset.data\n",
    "y = dataset.target\n",
    "X_tr, X_ts, y_tr, y_ts = train_test_split(X, y, test_size=0.3, random_state=617)"
   ]
  },
  {
   "cell_type": "markdown",
   "metadata": {},
   "source": [
    "(b)"
   ]
  },
  {
   "cell_type": "code",
   "execution_count": 8,
   "metadata": {},
   "outputs": [
    {
     "name": "stdout",
     "output_type": "stream",
     "text": [
      "Training set MSE:  0.03624832665289494\n",
      "Test set MSE:  0.26057081648445357\n"
     ]
    }
   ],
   "source": [
    "from sklearn.ensemble import RandomForestRegressor\n",
    "from sklearn.metrics import mean_squared_error\n",
    "\n",
    "\n",
    "default_model = RandomForestRegressor(n_estimators=100, random_state=617)\n",
    "default_model.fit(X_tr, y_tr)\n",
    "y_training_pred = default_model.predict(X_tr)\n",
    "training_MSE = mean_squared_error(y_tr, y_training_pred)\n",
    "print(\"Training set MSE: \", training_MSE)\n",
    "\n",
    "y_test_pred = default_model.predict(X_ts)\n",
    "test_MSE = mean_squared_error(y_ts, y_test_pred)\n",
    "print(\"Test set MSE: \", test_MSE)"
   ]
  },
  {
   "cell_type": "markdown",
   "metadata": {},
   "source": [
    "(c)"
   ]
  },
  {
   "cell_type": "code",
   "execution_count": 21,
   "metadata": {},
   "outputs": [
    {
     "name": "stdout",
     "output_type": "stream",
     "text": [
      "Average pairwise correlations(Pearson correlation):  0.7645690716613076\n"
     ]
    }
   ],
   "source": [
    "import numpy as np\n",
    "from scipy.stats import pearsonr\n",
    "\n",
    "estimators = default_model.estimators_\n",
    "pearson_correlation = []\n",
    "for i in range(len(estimators)):\n",
    "    for j in range(i + 1, len(estimators)):\n",
    "        pred_1 = estimators[i].predict(X_ts)\n",
    "        pred_2 = estimators[j].predict(X_ts)\n",
    "\n",
    "        pccs = pearsonr(pred_1, pred_2)[0]\n",
    "        pearson_correlation.append(pccs)\n",
    "\n",
    "print(\"Average pairwise pearson correlations: \", np.mean(pearson_correlation))"
   ]
  },
  {
   "cell_type": "markdown",
   "metadata": {},
   "source": [
    "(d)"
   ]
  },
  {
   "cell_type": "code",
   "execution_count": 33,
   "metadata": {},
   "outputs": [
    {
     "name": "stdout",
     "output_type": "stream",
     "text": [
      "  m    Training set MSE    Test set MSE    Average correlation\n",
      "---  ------------------  --------------  ---------------------\n",
      "  1           0.0398142        0.281533               0.767024\n",
      "  2           0.0348184        0.246248               0.767023\n",
      "  3           0.0345965        0.248642               0.767022\n",
      "  4           0.0344288        0.247401               0.767022\n",
      "  5           0.0356193        0.253843               0.767022\n",
      "  6           0.0357838        0.259419               0.767023\n",
      "  7           0.035924         0.258629               0.767025\n",
      "  8           0.0362483        0.260571               0.767026\n"
     ]
    },
    {
     "data": {
      "image/png": "[encoded data removed]",
      "text/plain": [
       "<Figure size 432x288 with 1 Axes>"
      ]
     },
     "metadata": {
      "needs_background": "light"
     },
     "output_type": "display_data"
    },
    {
     "data": {
      "image/png": "[encoded data removed]",
      "text/plain": [
       "<Figure size 432x288 with 1 Axes>"
      ]
     },
     "metadata": {
      "needs_background": "light"
     },
     "output_type": "display_data"
    }
   ],
   "source": [
    "from tabulate import tabulate\n",
    "import matplotlib.pyplot as plt\n",
    "\n",
    "training_MSEs = []\n",
    "test_MSEs = []\n",
    "average_correlations = []\n",
    "table_value = []\n",
    "col_names = [\"m\", \"Training set MSE\", \"Test set MSE\", \"Average correlation\"]\n",
    "\n",
    "for i in range(1, X.shape[1] + 1):\n",
    "    RF_model = RandomForestRegressor(n_estimators=100, random_state=617, max_features=i)\n",
    "    RF_model.fit(X_tr, y_tr)\n",
    "    y_training_pred = RF_model.predict(X_tr)\n",
    "    training_MSE = mean_squared_error(y_tr, y_training_pred)\n",
    "    training_MSEs.append(training_MSE)\n",
    "\n",
    "    y_test_pred = RF_model.predict(X_ts)\n",
    "    test_MSE = mean_squared_error(y_ts, y_test_pred)\n",
    "    test_MSEs.append(test_MSE)\n",
    "\n",
    "    for j in range(len(estimators)):\n",
    "        for k in range(i + 1, len(estimators)):\n",
    "            pred_1 = estimators[j].predict(X_ts)\n",
    "            pred_2 = estimators[k].predict(X_ts)\n",
    "\n",
    "            pccs = pearsonr(pred_1, pred_2)[0]\n",
    "            pearson_correlation.append(pccs)\n",
    "\n",
    "    average_correlation = np.mean(pearson_correlation)\n",
    "    average_correlations.append(average_correlation)\n",
    "    table_value.append([i, training_MSE, test_MSE, average_correlation])\n",
    "\n",
    "print(tabulate(table_value, headers=col_names))\n",
    "\n",
    "plt.plot(range(1, X.shape[1] + 1), training_MSEs, 'ro-', label=\"Trainint set MSEs\")\n",
    "plt.plot(range(1, X.shape[1] + 1), test_MSEs, 'bs-', label=\"Test set MSEs\")\n",
    "plt.legend(loc='best')\n",
    "plt.xlabel('m')\n",
    "plt.show()\n",
    "\n",
    "plt.plot(range(1, X.shape[1] + 1), average_correlations, 'g^-', label=\"average_correlations\")\n",
    "plt.legend(loc='best')\n",
    "plt.xlabel('m')\n",
    "plt.show()"
   ]
  }
 ],
 "metadata": {
  "kernelspec": {
   "display_name": "Python 3.10.1 64-bit",
   "language": "python",
   "name": "python3"
  },
  "language_info": {
   "codemirror_mode": {
    "name": "ipython",
    "version": 3
   },
   "file_extension": ".py",
   "mimetype": "text/x-python",
   "name": "python",
   "nbconvert_exporter": "python",
   "pygments_lexer": "ipython3",
   "version": "3.10.1"
  },
  "orig_nbformat": 4,
  "vscode": {
   "interpreter": {
    "hash": "08f6edec437538b5993be24a8d19dd1bd66f0a7ae79d727201cebd80cd580c21"
   }
  }
 },
 "nbformat": 4,
 "nbformat_minor": 2
}

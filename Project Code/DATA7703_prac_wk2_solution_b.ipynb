{
  "cells": [
    {
      "cell_type": "code",
      "execution_count": 124,
      "metadata": {
        "id": "zWuxwitk15ZQ"
      },
      "outputs": [],
      "source": [
        "import numpy as np\n",
        "from sklearn.neighbors import KNeighborsClassifier as KNN\n",
        "from sklearn.linear_model import LinearRegression\n",
        "import matplotlib.pyplot as plt"
      ]
    },
    {
      "cell_type": "code",
      "execution_count": 125,
      "metadata": {
        "id": "9VcOFrPW2ESi"
      },
      "outputs": [],
      "source": [
        "class my_KNN():\n",
        "    def __init__(self, k, X_train, y_train):\n",
        "        self.X = X_train\n",
        "        self.y = y_train\n",
        "        self.k = k\n",
        "        self.n = X_train.shape[0]\n",
        "\n",
        "    def predict(self, Xtest):\n",
        "        ntest = Xtest.shape[0]\n",
        "\n",
        "        self.DistanceMatrix = np.zeros((ntest, self.n))\n",
        "        self.OrderMatrix = np.zeros((ntest, self.k))\n",
        "\n",
        "        for sample in range(ntest):\n",
        "            self.DistanceMatrix[sample,:] = np.linalg.norm(self.X-Xtest[sample,:], ord=2, axis = -1)\n",
        "\n",
        "        orderMatrix = np.argsort(-self.DistanceMatrix, axis = -1)[:,:self.k]\n",
        "        y_pred = np.zeros((ntest,))\n",
        "\n",
        "        for sample in range(ntest):\n",
        "            closest_nbr_labels = self.y[orderMatrix[sample,:]]\n",
        "            unique_labels, label_count = np.unique(closest_nbr_labels, return_count=True)\n",
        "            y_pred[sample] = unique_labels[int(np.argmax(label_count))]\n",
        "\n",
        "        return y_pred\n",
        "\n",
        "    def calculate_accuracy(self, Xtest, ytest):\n",
        "\n",
        "        y_pred = self.predict(Xtest)\n",
        "        accuracy = (np.sum(ytest.astype(int)==y_pred.astype(int)) / len(ytest)) * 100\n",
        "        return accuracy"
      ]
    },
    {
      "cell_type": "code",
      "execution_count": 126,
      "metadata": {
        "id": "9AQg0smL4i7a"
      },
      "outputs": [],
      "source": [
        "class my_LinearRegression():\n",
        "\n",
        "    def __init__(self, keep_bias = True, is_normalized = True):\n",
        "\n",
        "        self.keep_bias = keep_bias\n",
        "\n",
        "    def fit(self, X ,y):\n",
        "\n",
        "        nSamples = X.shape[0]\n",
        "        nDimsX = X.shape[1]\n",
        "        nDimsY = y.shape[1]\n",
        "\n",
        "        if self.keep_bias:\n",
        "            X_aug = np.column_stack((np.ones((nSamples,1)),X))\n",
        "        else:\n",
        "            X_aug = X.copy()\n",
        "\n",
        "        self.W_aug = np.matmul(np.matmul(np.linalg.inv(np.matmul(np.transpose(X_aug),X_aug)),np.transpose(X_aug)),y)\n",
        "\n",
        "        if self.keep_bias:\n",
        "            self.b = self.W_aug[0,:]\n",
        "            self.W = self.W_aug[1:,:]\n",
        "        else:\n",
        "            self.b = 0\n",
        "            self.W = self.W_aug\n",
        "\n",
        "    def predict(self, Xtest):\n",
        "\n",
        "        testSamples = Xtest.shape[0]\n",
        "\n",
        "        if self.keep_bias:\n",
        "            Xtest_aug = np.column_stack((np.ones((testSamples,1)),Xtest))\n",
        "        else:\n",
        "            Xtest_aug = Xtest.copy()\n",
        "        \n",
        "        ypred = np.matmul(Xtest_aug, self.W_aug)\n",
        "\n",
        "        return ypred\n",
        "\n",
        "    def mean_squared_error(self, Xtest, ytest):\n",
        "\n",
        "        Ypred = self.predict(Xtest)\n",
        "        mse = np.mean(np.square(Ypred-ytest))\n",
        "        return mse"
      ]
    },
    {
      "cell_type": "code",
      "execution_count": 127,
      "metadata": {
        "id": "nC2p6t6K4vJI"
      },
      "outputs": [],
      "source": [
        "X = np.asarray([-5, -3.2, -1.1, 0.5, 2.6, 4.4]) \n",
        "y = np.asarray([12, 9, 3, 0.8, -4, -7])"
      ]
    },
    {
      "cell_type": "code",
      "execution_count": 128,
      "metadata": {
        "colab": {
          "base_uri": "https://localhost:8080/",
          "height": 265
        },
        "id": "8gIxmIyd4yb7",
        "outputId": "c73f0d1a-20d1-49fc-87d3-e9bccd8b3c11"
      },
      "outputs": [
        {
          "data": {
            "image/png": "[encoded data removed]",
            "text/plain": [
              "<Figure size 432x288 with 1 Axes>"
            ]
          },
          "metadata": {
            "needs_background": "light"
          },
          "output_type": "display_data"
        }
      ],
      "source": [
        "plt.plot(X,y, marker = 'o', linestyle = '--', )\n",
        "plt.grid()"
      ]
    },
    {
      "cell_type": "code",
      "execution_count": 129,
      "metadata": {
        "id": "G_J5LzxbJhEU"
      },
      "outputs": [],
      "source": [
        "def my_guessed_params(X,y):\n",
        "    x2, x1 = X[0], X[-1]\n",
        "    y2, y1 = y[0], y[-1]\n",
        "\n",
        "    W = (y2-y1)/(x2-x1)\n",
        "    b = y1 - W*x1\n",
        "    return W,b\n",
        "Wguess, bguess = my_guessed_params(X,y)\n",
        "\n",
        "x_rand = np.arange(-5,6,1)\n",
        "y_rand = Wguess*x_rand + bguess"
      ]
    },
    {
      "cell_type": "code",
      "execution_count": 130,
      "metadata": {
        "colab": {
          "base_uri": "https://localhost:8080/",
          "height": 265
        },
        "id": "10aXziumMRvY",
        "outputId": "42bb0a97-a4e0-4d95-ff0f-ffdd4321c620"
      },
      "outputs": [
        {
          "data": {
            "image/png": "[encoded data removed]",
            "text/plain": [
              "<Figure size 432x288 with 1 Axes>"
            ]
          },
          "metadata": {
            "needs_background": "light"
          },
          "output_type": "display_data"
        }
      ],
      "source": [
        "plt.plot(X,y, x_rand, y_rand, marker = 'o', linestyle = '--', )\n",
        "plt.grid()"
      ]
    },
    {
      "cell_type": "code",
      "execution_count": 131,
      "metadata": {
        "colab": {
          "base_uri": "https://localhost:8080/"
        },
        "id": "Zhd0hDOcIXnU",
        "outputId": "9f2c7832-8854-406f-cd38-ce3c3691ec8d"
      },
      "outputs": [
        {
          "name": "stdout",
          "output_type": "stream",
          "text": [
            "{'W': -2.021276595744681, 'b': 1.8936170212765973}\n"
          ]
        }
      ],
      "source": [
        "guessed_params = {'W':Wguess,\n",
        "                  'b':bguess}\n",
        "print(guessed_params)"
      ]
    },
    {
      "cell_type": "code",
      "execution_count": 132,
      "metadata": {
        "id": "1K52rmBtHl6P"
      },
      "outputs": [],
      "source": [
        "my_LR = my_LinearRegression()\n",
        "my_LR.fit(X.reshape((-1,1)),y.reshape((-1,1)))"
      ]
    },
    {
      "cell_type": "code",
      "execution_count": 133,
      "metadata": {
        "colab": {
          "base_uri": "https://localhost:8080/"
        },
        "id": "Vv51cPj3M7-O",
        "outputId": "6632ab3e-d2aa-471c-b174-cf7d721ed76e"
      },
      "outputs": [
        {
          "name": "stdout",
          "output_type": "stream",
          "text": [
            "{'W': -2.067437379576108, 'b': 1.6797687861271675}\n"
          ]
        }
      ],
      "source": [
        "my_LR_params = {'W':my_LR.W[0][0],\n",
        "                'b':my_LR.b[0]}\n",
        "print(my_LR_params)"
      ]
    },
    {
      "cell_type": "code",
      "execution_count": 134,
      "metadata": {
        "colab": {
          "base_uri": "https://localhost:8080/",
          "height": 483
        },
        "id": "6IqhGHbWRxhk",
        "outputId": "e8809df2-8c50-4301-89ef-862a08e766de"
      },
      "outputs": [
        {
          "data": {
            "image/png": "[encoded data removed]",
            "text/plain": [
              "<Figure size 720x576 with 1 Axes>"
            ]
          },
          "metadata": {
            "needs_background": "light"
          },
          "output_type": "display_data"
        }
      ],
      "source": [
        "ypred_LR = my_LR_params['W']*X + my_LR_params['b']\n",
        "ypred_guessed = Wguess*X + bguess\n",
        "\n",
        "fig = plt.figure(figsize=(10,8))\n",
        "plt.scatter(X, y, marker = 'x')\n",
        "plt.plot(X, ypred_LR, marker = 'o', linestyle= '--')\n",
        "plt.plot(X, ypred_guessed, marker = 'D', linestyle='--')\n",
        "plt.legend(['Linear Regression','Guessed model','Actual data'])\n",
        "plt.grid()"
      ]
    },
    {
      "cell_type": "code",
      "execution_count": 135,
      "metadata": {
        "colab": {
          "base_uri": "https://localhost:8080/"
        },
        "id": "5eCwr6ldNhKk",
        "outputId": "942f7c4a-6910-48dc-db0b-27e927c2e4ee"
      },
      "outputs": [
        {
          "name": "stdout",
          "output_type": "stream",
          "text": [
            "0.2827938342967242 0.34491172476233634\n"
          ]
        }
      ],
      "source": [
        "mse_LR = my_LR.mean_squared_error(X,y.reshape(-1,1))\n",
        "mse_guessed = np.mean(np.square(y-ypred_guessed))\n",
        "print(mse_LR, mse_guessed)"
      ]
    },
    {
      "cell_type": "code",
      "execution_count": 136,
      "metadata": {
        "colab": {
          "base_uri": "https://localhost:8080/"
        },
        "id": "Y5DOVH9EIwJ4",
        "outputId": "361504d4-f823-4232-caca-22fe63aea4b0"
      },
      "outputs": [
        {
          "name": "stdout",
          "output_type": "stream",
          "text": [
            "[[-2.06743738]] [1.67976879]\n",
            "0.2827938342967247\n"
          ]
        }
      ],
      "source": [
        "lm = LinearRegression()\n",
        "lm.fit(X.reshape((-1,1)),y.reshape((-1,1)))\n",
        "print(lm.coef_, lm.intercept_)\n",
        "ypred_lm = lm.predict(X.reshape((-1,1)))\n",
        "mse_lm = np.mean(np.square(ypred_lm-y.reshape((-1,1))))\n",
        "print(mse_lm)"
      ]
    },
    {
      "cell_type": "markdown",
      "metadata": {
        "id": "6hOfdxWxVavl"
      },
      "source": [
        "# **Question 2**"
      ]
    },
    {
      "cell_type": "code",
      "execution_count": 167,
      "metadata": {
        "id": "XSPCvxN4VaJ-"
      },
      "outputs": [],
      "source": [
        "import pandas as pd"
      ]
    },
    {
      "cell_type": "code",
      "execution_count": 168,
      "metadata": {
        "id": "ynOb2QjCVkiV"
      },
      "outputs": [],
      "source": [
        "data = pd.read_csv('pokemonfun.csv').dropna().values\n",
        "X, y = data[:,:7], data[:,7:8]"
      ]
    },
    {
      "cell_type": "markdown",
      "metadata": {
        "id": "GfB4y93aVzxC"
      },
      "source": [
        "Normalize **first**"
      ]
    },
    {
      "cell_type": "code",
      "execution_count": 169,
      "metadata": {
        "id": "U8VSjE-1Vlbh"
      },
      "outputs": [],
      "source": [
        "minX = np.min(X, axis = 0)\n",
        "maxX = np.max(X, axis = 0)\n",
        "\n",
        "Xscaled = (X-minX)/(maxX-minX + 1e-8)"
      ]
    },
    {
      "cell_type": "code",
      "execution_count": 170,
      "metadata": {
        "colab": {
          "base_uri": "https://localhost:8080/"
        },
        "id": "N5QeoJGZWgbw",
        "outputId": "61e83670-e050-4824-a3d8-76c743661f8b"
      },
      "outputs": [
        {
          "name": "stdout",
          "output_type": "stream",
          "text": [
            "Mean Squared Error: 6415.6175823409785\n",
            "\n",
            "W_myLR: [[ 43.59587877]\n",
            " [145.9941268 ]\n",
            " [704.65605824]\n",
            " [147.18317029]\n",
            " [ -5.20477235]\n",
            " [  4.98526211]\n",
            " [-64.75098045]]\n",
            "\n",
            "b_myLR: [-68.69720764]\n"
          ]
        }
      ],
      "source": [
        "my_LR_multi = my_LinearRegression()\n",
        "my_LR_multi.fit(Xscaled, y)\n",
        "ypred = my_LR_multi.predict(Xscaled)\n",
        "\n",
        "W_myLR, b_myLR = my_LR_multi.W, my_LR_multi.b\n",
        "mse_myLR = my_LR_multi.mean_squared_error(Xscaled, y)\n",
        "\n",
        "print('Mean Squared Error: '+str(mse_myLR)+'\\n')\n",
        "print('W_myLR: '+str(W_myLR)+'\\n')\n",
        "print('b_myLR: '+str(b_myLR))"
      ]
    },
    {
      "cell_type": "code",
      "execution_count": 171,
      "metadata": {
        "colab": {
          "base_uri": "https://localhost:8080/"
        },
        "id": "Wq-PBq16bmCM",
        "outputId": "b45f9885-973b-4bdd-eb94-21e0e12efd97"
      },
      "outputs": [
        {
          "data": {
            "text/plain": [
              "6415.6175823409785"
            ]
          },
          "execution_count": 171,
          "metadata": {},
          "output_type": "execute_result"
        }
      ],
      "source": [
        "np.mean(np.square(ypred-y))"
      ]
    },
    {
      "cell_type": "code",
      "execution_count": 174,
      "metadata": {
        "colab": {
          "base_uri": "https://localhost:8080/"
        },
        "id": "SI_p6QrpX1j8",
        "outputId": "4515b5a7-40c5-4bf7-cc93-6b7303024d33"
      },
      "outputs": [
        {
          "name": "stdout",
          "output_type": "stream",
          "text": [
            "Mean Squared Error: 6415.6175823409785\n",
            "\n",
            "W_myLR: [[ 43.59587877 145.9941268  704.65605824 147.18317029  -5.20477235\n",
            "    4.98526211 -64.75098045]]\n",
            "\n",
            "b_myLR: [-68.69720764]\n",
            "0.4628204512420424\n"
          ]
        }
      ],
      "source": [
        "lm_multi = LinearRegression()\n",
        "lm_multi.fit(Xscaled,y)\n",
        "ypred_lm = lm_multi.predict(Xscaled)\n",
        "R = lm_multi.score(Xscaled, y)\n",
        "mse_lm = np.mean(np.square(ypred_lm - y))\n",
        "W_lm , b_lm = lm_multi.coef_, lm_multi.intercept_\n",
        "\n",
        "print('Mean Squared Error: '+str(mse_lm)+'\\n')\n",
        "print('W_myLR: '+str(W_lm)+'\\n')\n",
        "print('b_myLR: '+str(b_lm))\n",
        "print(R)"
      ]
    },
    {
      "cell_type": "code",
      "execution_count": null,
      "metadata": {
        "id": "18Eb_NRFaZ6N"
      },
      "outputs": [],
      "source": []
    }
  ],
  "metadata": {
    "colab": {
      "name": "DATA7703_prac1.ipynb",
      "provenance": []
    },
    "kernelspec": {
      "display_name": "Python 3.10.1 64-bit",
      "language": "python",
      "name": "python3"
    },
    "language_info": {
      "name": "python",
      "version": "3.10.1"
    },
    "vscode": {
      "interpreter": {
        "hash": "08f6edec437538b5993be24a8d19dd1bd66f0a7ae79d727201cebd80cd580c21"
      }
    }
  },
  "nbformat": 4,
  "nbformat_minor": 0
}

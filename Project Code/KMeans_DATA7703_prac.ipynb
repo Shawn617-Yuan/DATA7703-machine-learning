{
  "nbformat": 4,
  "nbformat_minor": 0,
  "metadata": {
    "colab": {
      "name": "KMeans_DATA7703_prac.ipynb",
      "provenance": [],
      "collapsed_sections": []
    },
    "kernelspec": {
      "name": "python3",
      "display_name": "Python 3"
    }
  },
  "cells": [
    {
      "cell_type": "code",
      "metadata": {
        "id": "c5wam9F2Mmyf"
      },
      "source": [
        "#from sklearn.decomposition import PCA\n",
        "import numpy as np\n",
        "#import scipy as sp\n",
        "from sklearn.preprocessing import StandardScaler,MinMaxScaler    # Normalizing data\n",
        "import matplotlib.pyplot as plt     # Plotting\n",
        "import pandas as pd                 # data handling \n",
        "from sklearn.cluster import kmeans_plusplus\n",
        "\n",
        "# To upload data in google colab click on the files symbol in the vertical toolbar to the left. It should be the 4th sign. Select the upload option and upload file from local system."
      ],
      "execution_count": null,
      "outputs": []
    },
    {
      "cell_type": "code",
      "metadata": {
        "id": "mOvbYTlKG72R"
      },
      "source": [
        "class KMeans(object):                                                                               # a collection of functions which are related to each other \n",
        "    def __init__(self,k, init_type = 'rand'):\n",
        "        self.k=k\n",
        "        self.init_type = init_type                                                                  # Type of initialization to be used for KMeans algorithm\n",
        "\n",
        "    def initialize_cluster_mean(self,X):                                                            # Initialize the cluster means. Two types of initialization: Kmeans++ and random\n",
        "        if self.init_type=='rand':                                                                  # if init type == random, then ...\n",
        "            indices=np.random.randint(X.shape[0],size=self.k)                                       # Choose k random data samples from X as cluster means\n",
        "            cluster_mean=X[indices,:]                           \n",
        "        elif self.init_type == 'kmeans++':                                                          # else if init type == kmeans++, then ...\n",
        "            cluster_mean, indices = kmeans_plusplus(X, n_clusters=self.k, random_state=0)           # choose initial cluster means using kmeans++ algorithm\n",
        "        return cluster_mean\n",
        "\n",
        "    def update_cluster_mean(self,X,cluster_assignment):                                             # Cluster mean update step ( or Maximization step in the context of EM)\n",
        "    ###     Inputs: \n",
        "    #       1.  X : Data Matrix; shape: NumSamples x InpDims\n",
        "    #       2.  cluster_assignment: Array of shape (NumSamples,). The i-th element \n",
        "    #                           consists of a number between 0 to K-1 representing \n",
        "    #                           the cluster that the i-th data sample (corr. to i-th row in X) \n",
        "    #                           belongs to according to the latest update.\n",
        "\n",
        "        cluster_mean=np.zeros((self.k,X.shape[1]))                                                  # Create a container of shape (K x InpDims) containing all zeros to keep the calculated cluster means\n",
        "        for i in range(self.k):                                                                     # Loop over i = 0 to K-1\n",
        "            X_i=X[np.where(cluster_assignment==i)]                                                  # Collect all the data samples that belong to the i-th cluster assignment\n",
        "            cluster_mean[i,:]=np.mean(X_i,axis=0)                                                   # Find their sample mean and store as the i-th cluster mean \n",
        "        return cluster_mean\n",
        "\n",
        "    def update_cluster_assignment(self,X,cluster_mean):                                             # Function to update cluster assignment (or Expectation step in the context of EM)\n",
        "    \n",
        "    ### Inputs:\n",
        "    #   1.  X : Data Matrix; shape: NumSamples x InpDims \n",
        "    #   2. cluster_mean : Matrix of shape (K x InpDims) consisting of the latest\n",
        "    #                     computed cluster mean.\n",
        "\n",
        "        cluster_assignment=np.ones(X.shape[0])                                                      # Create a container of all ones of shape (NumSamples,) to store calculated cluster assignments\n",
        "                                 \n",
        "        for n in range(X.shape[0]):                                                                 # Loop over n = 0 to NumSamples -1\n",
        "            \n",
        "            dist=np.linalg.norm(cluster_mean-X[n,:],ord=2,axis=1)                                   # Calculate the L2 norms (or euclidean distances) of the n-th data sample from all the K cluster means\n",
        "            cluster_assignment[n]=np.argmin(dist)                                                   # Assign the n-th data sample to that cluster whose mean is the closest to it. \n",
        "                                                                                                    # np.argmin(.) finds the index of the smallest element in an array\n",
        "        return cluster_assignment                                               \n",
        "\n",
        "    def fit(self,X):                                                                                # Fitting the data to the method\n",
        "        cluster_mean=self.initialize_cluster_mean(X)                                                # Initialize Cluster Mean\n",
        "        cluster_assignment=self.update_cluster_assignment(X,cluster_mean)                           # Update cluster assignment \n",
        "        cluster_mean_new=self.update_cluster_mean(X,cluster_assignment)                             # Calculate the latest cluster mean using the previous cluster assignment\n",
        "        delta_mean=np.mean(np.linalg.norm(cluster_mean-cluster_mean_new,ord=2,axis=1))              # Calculate the diff. between the previous and current cluster means. This will be used to check if KMeans has converged.\n",
        "        self.iter=0                                                                                         # To start iterating set i = 0\n",
        "\n",
        "        if X.shape[1] > 2:                                                                          # For visualization of cluster means: (Optional)\n",
        "            pca=PCA(n_components=2)                                                                 # If number of dimensions of X is greater than 2, use PCA to reduce the dimensionality of the cluster means to 2\n",
        "            pca.fit(cluster_mean)\n",
        "            self.k_mean_initial=pca.fit_transform(cluster_mean)\n",
        "        else:\n",
        "            self.k_mean_initial = cluster_mean                                                      # Else do nothing\n",
        "        \n",
        "        #fig=plt.figure()                                                                            # Initialize a matplotlib.pyplot figure\n",
        "        #ax=plt.subplot(111)\n",
        "\n",
        "        while(delta_mean>1e-6):                                                                     # while the difference between prev and curr cluster means is greater than a threshold, repeat\n",
        "            cluster_mean=cluster_mean_new                                                           # Previous Cluster Mean <-- Current Cluster Mean                \n",
        "            cluster_assignment=self.update_cluster_assignment(X,cluster_mean)                       # Update cluster assignement using previous cluster mean\n",
        "            cluster_mean_new=self.update_cluster_mean(X,cluster_assignment)                         # Calculate the Current Cluster Mean using updated cluster assignments \n",
        "            delta_mean=np.mean(np.linalg.norm(cluster_mean-cluster_mean_new,ord=2,axis=1))          # Calculate delta mean\n",
        "            self.iter+=1\n",
        "\n",
        "        if X.shape[1] > 2:\n",
        "            pca.fit(cluster_mean_new)                                                               # Store the final cluster means for visualization\n",
        "            self.k_mean_final=pca.fit_transform(cluster_mean_new)\n",
        "        else:\n",
        "            self.k_mean_final = cluster_mean_new\n",
        "\n",
        "        #marker_arr=['.','o','>','^','s','*','P','D','X','p']                                        # Plotting Function\n",
        "        #for i in range(self.k):\n",
        "        #    ax.scatter(self.k_mean_initial[i,0],self.k_mean_initial[i,1],marker=marker_arr[i],c='r',s=100)\n",
        "        #    ax.scatter(k_mean_final[i,0],k_mean_final[i,1],marker=marker_arr[i],c='g',s=100)\n",
        "\n",
        "        #plt.title('Translation of cluster means')\n",
        "        #plt.xlabel('X1')\n",
        "        #plt.ylabel('X2')\n",
        "        #fig.show()    \n",
        "\n",
        "        return cluster_mean_new\n",
        "\n",
        "    def assign_clusters(self,X_test,final_cluster_means):                                           # Function used for validation on new unseen data\n",
        "    \n",
        "    ### Inputs:\n",
        "    #   1. X_test: Data Input, Shape: NSamples x InpDims\n",
        "    #   2. final_cluster_means: Computed cluster means after doing kMeans.\n",
        "\n",
        "        cluster_assignment=np.ones(X_test.shape[0])\n",
        "        for n in range(X_test.shape[0]):\n",
        "            dist=np.linalg.norm(final_cluster_means-X_test[n,:],ord=2,axis=1)\n",
        "            cluster_assignment[n]=np.argmin(dist)\n",
        "        return cluster_assignment"
      ],
      "execution_count": null,
      "outputs": []
    },
    {
      "cell_type": "code",
      "source": [
        "data_test=pd.read_csv('penguins_size.csv').dropna()"
      ],
      "metadata": {
        "id": "ct0OMz-kuQci"
      },
      "execution_count": null,
      "outputs": []
    },
    {
      "cell_type": "code",
      "source": [
        "data_test.head()"
      ],
      "metadata": {
        "colab": {
          "base_uri": "https://localhost:8080/",
          "height": 206
        },
        "id": "vGQCJqETuRFW",
        "outputId": "f8e8cf38-eb20-4f8f-864b-42210e2303cc"
      },
      "execution_count": null,
      "outputs": [
        {
          "output_type": "execute_result",
          "data": {
            "text/plain": [
              "  species     island  culmen_length_mm  culmen_depth_mm  flipper_length_mm  \\\n",
              "0  Adelie  Torgersen              39.1             18.7              181.0   \n",
              "1  Adelie  Torgersen              39.5             17.4              186.0   \n",
              "2  Adelie  Torgersen              40.3             18.0              195.0   \n",
              "4  Adelie  Torgersen              36.7             19.3              193.0   \n",
              "5  Adelie  Torgersen              39.3             20.6              190.0   \n",
              "\n",
              "   body_mass_g     sex  \n",
              "0       3750.0    MALE  \n",
              "1       3800.0  FEMALE  \n",
              "2       3250.0  FEMALE  \n",
              "4       3450.0  FEMALE  \n",
              "5       3650.0    MALE  "
            ],
            "text/html": [
              "\n",
              "  <div id=\"df-97c4fd81-6073-4ca9-82a7-3bce9999b21a\">\n",
              "    <div class=\"colab-df-container\">\n",
              "      <div>\n",
              "<style scoped>\n",
              "    .dataframe tbody tr th:only-of-type {\n",
              "        vertical-align: middle;\n",
              "    }\n",
              "\n",
              "    .dataframe tbody tr th {\n",
              "        vertical-align: top;\n",
              "    }\n",
              "\n",
              "    .dataframe thead th {\n",
              "        text-align: right;\n",
              "    }\n",
              "</style>\n",
              "<table border=\"1\" class=\"dataframe\">\n",
              "  <thead>\n",
              "    <tr style=\"text-align: right;\">\n",
              "      <th></th>\n",
              "      <th>species</th>\n",
              "      <th>island</th>\n",
              "      <th>culmen_length_mm</th>\n",
              "      <th>culmen_depth_mm</th>\n",
              "      <th>flipper_length_mm</th>\n",
              "      <th>body_mass_g</th>\n",
              "      <th>sex</th>\n",
              "    </tr>\n",
              "  </thead>\n",
              "  <tbody>\n",
              "    <tr>\n",
              "      <th>0</th>\n",
              "      <td>Adelie</td>\n",
              "      <td>Torgersen</td>\n",
              "      <td>39.1</td>\n",
              "      <td>18.7</td>\n",
              "      <td>181.0</td>\n",
              "      <td>3750.0</td>\n",
              "      <td>MALE</td>\n",
              "    </tr>\n",
              "    <tr>\n",
              "      <th>1</th>\n",
              "      <td>Adelie</td>\n",
              "      <td>Torgersen</td>\n",
              "      <td>39.5</td>\n",
              "      <td>17.4</td>\n",
              "      <td>186.0</td>\n",
              "      <td>3800.0</td>\n",
              "      <td>FEMALE</td>\n",
              "    </tr>\n",
              "    <tr>\n",
              "      <th>2</th>\n",
              "      <td>Adelie</td>\n",
              "      <td>Torgersen</td>\n",
              "      <td>40.3</td>\n",
              "      <td>18.0</td>\n",
              "      <td>195.0</td>\n",
              "      <td>3250.0</td>\n",
              "      <td>FEMALE</td>\n",
              "    </tr>\n",
              "    <tr>\n",
              "      <th>4</th>\n",
              "      <td>Adelie</td>\n",
              "      <td>Torgersen</td>\n",
              "      <td>36.7</td>\n",
              "      <td>19.3</td>\n",
              "      <td>193.0</td>\n",
              "      <td>3450.0</td>\n",
              "      <td>FEMALE</td>\n",
              "    </tr>\n",
              "    <tr>\n",
              "      <th>5</th>\n",
              "      <td>Adelie</td>\n",
              "      <td>Torgersen</td>\n",
              "      <td>39.3</td>\n",
              "      <td>20.6</td>\n",
              "      <td>190.0</td>\n",
              "      <td>3650.0</td>\n",
              "      <td>MALE</td>\n",
              "    </tr>\n",
              "  </tbody>\n",
              "</table>\n",
              "</div>\n",
              "      <button class=\"colab-df-convert\" onclick=\"convertToInteractive('df-97c4fd81-6073-4ca9-82a7-3bce9999b21a')\"\n",
              "              title=\"Convert this dataframe to an interactive table.\"\n",
              "              style=\"display:none;\">\n",
              "        \n",
              "  <svg xmlns=\"http://www.w3.org/2000/svg\" height=\"24px\"viewBox=\"0 0 24 24\"\n",
              "       width=\"24px\">\n",
              "    <path d=\"M0 0h24v24H0V0z\" fill=\"none\"/>\n",
              "    <path d=\"M18.56 5.44l.94 2.06.94-2.06 2.06-.94-2.06-.94-.94-2.06-.94 2.06-2.06.94zm-11 1L8.5 8.5l.94-2.06 2.06-.94-2.06-.94L8.5 2.5l-.94 2.06-2.06.94zm10 10l.94 2.06.94-2.06 2.06-.94-2.06-.94-.94-2.06-.94 2.06-2.06.94z\"/><path d=\"M17.41 7.96l-1.37-1.37c-.4-.4-.92-.59-1.43-.59-.52 0-1.04.2-1.43.59L10.3 9.45l-7.72 7.72c-.78.78-.78 2.05 0 2.83L4 21.41c.39.39.9.59 1.41.59.51 0 1.02-.2 1.41-.59l7.78-7.78 2.81-2.81c.8-.78.8-2.07 0-2.86zM5.41 20L4 18.59l7.72-7.72 1.47 1.35L5.41 20z\"/>\n",
              "  </svg>\n",
              "      </button>\n",
              "      \n",
              "  <style>\n",
              "    .colab-df-container {\n",
              "      display:flex;\n",
              "      flex-wrap:wrap;\n",
              "      gap: 12px;\n",
              "    }\n",
              "\n",
              "    .colab-df-convert {\n",
              "      background-color: #E8F0FE;\n",
              "      border: none;\n",
              "      border-radius: 50%;\n",
              "      cursor: pointer;\n",
              "      display: none;\n",
              "      fill: #1967D2;\n",
              "      height: 32px;\n",
              "      padding: 0 0 0 0;\n",
              "      width: 32px;\n",
              "    }\n",
              "\n",
              "    .colab-df-convert:hover {\n",
              "      background-color: #E2EBFA;\n",
              "      box-shadow: 0px 1px 2px rgba(60, 64, 67, 0.3), 0px 1px 3px 1px rgba(60, 64, 67, 0.15);\n",
              "      fill: #174EA6;\n",
              "    }\n",
              "\n",
              "    [theme=dark] .colab-df-convert {\n",
              "      background-color: #3B4455;\n",
              "      fill: #D2E3FC;\n",
              "    }\n",
              "\n",
              "    [theme=dark] .colab-df-convert:hover {\n",
              "      background-color: #434B5C;\n",
              "      box-shadow: 0px 1px 3px 1px rgba(0, 0, 0, 0.15);\n",
              "      filter: drop-shadow(0px 1px 2px rgba(0, 0, 0, 0.3));\n",
              "      fill: #FFFFFF;\n",
              "    }\n",
              "  </style>\n",
              "\n",
              "      <script>\n",
              "        const buttonEl =\n",
              "          document.querySelector('#df-97c4fd81-6073-4ca9-82a7-3bce9999b21a button.colab-df-convert');\n",
              "        buttonEl.style.display =\n",
              "          google.colab.kernel.accessAllowed ? 'block' : 'none';\n",
              "\n",
              "        async function convertToInteractive(key) {\n",
              "          const element = document.querySelector('#df-97c4fd81-6073-4ca9-82a7-3bce9999b21a');\n",
              "          const dataTable =\n",
              "            await google.colab.kernel.invokeFunction('convertToInteractive',\n",
              "                                                     [key], {});\n",
              "          if (!dataTable) return;\n",
              "\n",
              "          const docLinkHtml = 'Like what you see? Visit the ' +\n",
              "            '<a target=\"_blank\" href=https://colab.research.google.com/notebooks/data_table.ipynb>data table notebook</a>'\n",
              "            + ' to learn more about interactive tables.';\n",
              "          element.innerHTML = '';\n",
              "          dataTable['output_type'] = 'display_data';\n",
              "          await google.colab.output.renderOutput(dataTable, element);\n",
              "          const docLink = document.createElement('div');\n",
              "          docLink.innerHTML = docLinkHtml;\n",
              "          element.appendChild(docLink);\n",
              "        }\n",
              "      </script>\n",
              "    </div>\n",
              "  </div>\n",
              "  "
            ]
          },
          "metadata": {},
          "execution_count": 4
        }
      ]
    },
    {
      "cell_type": "code",
      "metadata": {
        "id": "rdLmqJF2vX3R",
        "colab": {
          "base_uri": "https://localhost:8080/"
        },
        "outputId": "7a2fa342-6d77-4616-b4fb-13afe276c8b3"
      },
      "source": [
        "                             # Data cleaning\n",
        "\n",
        "X=data_test.iloc[:,4:6].values                                                  # Length of fins and body mass\n",
        "y=data_test['species']\n",
        "\n",
        "uniq, counts = np.unique(np.asarray(y), return_counts=True)                                     # Count the number of unique entries in y\n",
        "y.replace(uniq,[0, 1, 2], inplace=True)                                                         # Replace the three unique species names with -1, 0 and 1\n",
        "y = y.values                                                                                    # Convert y to numpy array\n",
        "\n",
        "print(uniq)"
      ],
      "execution_count": null,
      "outputs": [
        {
          "output_type": "stream",
          "name": "stdout",
          "text": [
            "['Adelie' 'Chinstrap' 'Gentoo']\n"
          ]
        }
      ]
    },
    {
      "cell_type": "code",
      "metadata": {
        "id": "-8omFnuXvXj1"
      },
      "source": [
        "scaler=StandardScaler()\n",
        "scaler.fit(X)\n",
        "X=scaler.fit_transform(X)"
      ],
      "execution_count": null,
      "outputs": []
    },
    {
      "cell_type": "code",
      "metadata": {
        "id": "oxCHBW_DwGGq",
        "colab": {
          "base_uri": "https://localhost:8080/"
        },
        "outputId": "fef9882a-9dc8-4f8a-cc3d-34cc91d1d7b2"
      },
      "source": [
        "k_means=KMeans(len(uniq), init_type='rand')                                                     # An observation: Using 'rand' as the init_type leads to different cluster initializations\n",
        "final_cluster_mean=k_means.fit(X)                                                               # at different runs and also the number of iteratiosn required are in general greater than\n",
        "assigned_clusters=k_means.assign_clusters(X,final_cluster_mean)                                 # what is required when init_type is 'kmeans++'.\n",
        "print('Iterations required to converge: '+str(k_means.iter))                                    # Check this out by running the algo multiple times using 'rand' and 'kmeans++' initializer"
      ],
      "execution_count": null,
      "outputs": [
        {
          "output_type": "stream",
          "name": "stdout",
          "text": [
            "Iterations required to converge: 19\n"
          ]
        }
      ]
    },
    {
      "cell_type": "code",
      "source": [
        "plt.figure(figsize=(10,8))\n",
        "colors = [\"#4EACC5\", \"#FF9C34\", \"#4E9A06\"]\n",
        "for k, col in enumerate(colors):\n",
        "    cluster_data = y == k\n",
        "    plt.scatter(X[cluster_data, 0], X[cluster_data, 1], c=col, marker=\"o\", s=20)\n",
        "marker_type = ['X','>','*']\n",
        "for k in range(len(colors)):\n",
        "    plt.scatter(final_cluster_mean[k, 0], final_cluster_mean[k, 1], c=\"b\", marker=marker_type[k],s=100)\n",
        "for k in range(len(colors)):\n",
        "    plt.scatter(k_means.k_mean_initial[k, 0], k_means.k_mean_initial[k, 1], c=\"r\", marker=marker_type[k],s=100)\n",
        "plt.xticks([])\n",
        "plt.yticks([])\n",
        "plt.xlabel('X1')\n",
        "plt.ylabel('X2')\n",
        "plt.title('K-Means clustering')\n",
        "plt.show()"
      ],
      "metadata": {
        "colab": {
          "base_uri": "https://localhost:8080/",
          "height": 496
        },
        "id": "zOxTHeviyVlB",
        "outputId": "6359471a-ca4d-470e-bd4c-be4fd28560a5"
      },
      "execution_count": null,
      "outputs": [
        {
          "output_type": "display_data",
          "data": {
            "text/plain": [
              "<Figure size 720x576 with 1 Axes>"
            ],
            "image/png": "[encoded data removed]"
          },
          "metadata": {}
        }
      ]
    },
    {
      "cell_type": "code",
      "source": [
        ""
      ],
      "metadata": {
        "id": "e83-ZA4AuuaA"
      },
      "execution_count": null,
      "outputs": []
    }
  ]
}
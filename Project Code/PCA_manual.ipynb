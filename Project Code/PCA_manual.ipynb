{
 "cells": [
  {
   "cell_type": "code",
   "execution_count": 56,
   "metadata": {},
   "outputs": [],
   "source": [
    "import numpy as np\n",
    "import pandas as pd\n",
    "df =pd.read_csv(\"/Users/jiezhang/Downloads/vscode/machine learning/practise/dataset/pokemonfun.csv\")\n",
    "X=df.dropna()"
   ]
  },
  {
   "cell_type": "code",
   "execution_count": 57,
   "metadata": {},
   "outputs": [],
   "source": [
    "# scale and center the data: (value-mean)/standard variance\n",
    "X_meaned=(X-np.mean(X,axis=0))/(X.std())\n",
    "# covariance matrix\n",
    "cov_mat=np.cov(X_meaned,rowvar=False)\n",
    "# eigen_values and eigen_vectors\n",
    "eigen_values,eigen_vectors=np.linalg.eig(cov_mat)"
   ]
  },
  {
   "cell_type": "code",
   "execution_count": 58,
   "metadata": {},
   "outputs": [
    {
     "name": "stdout",
     "output_type": "stream",
     "text": [
      "[3.45208858 1.22626251 0.93889034 0.75371579 0.59056212 0.42841951\n",
      " 0.35041701 0.25964413]\n"
     ]
    }
   ],
   "source": [
    "# sorted eigenvalues\n",
    "sorted_index=np.argsort(eigen_values)[::-1]\n",
    "sorted_eigenvalue=eigen_values[sorted_index]\n",
    "print(sorted_eigenvalue)\n",
    "# eigenvectors according to sorted eigenvalues\n",
    "sorted_eigenvectors=eigen_vectors[:,sorted_index]"
   ]
  },
  {
   "cell_type": "code",
   "execution_count": 59,
   "metadata": {},
   "outputs": [
    {
     "name": "stdout",
     "output_type": "stream",
     "text": [
      "[[-0.37843988 -0.07857371]\n",
      " [-0.34866255  0.30069643]\n",
      " [-0.39995614  0.21105694]\n",
      " [-0.3610852   0.06672889]\n",
      " [-0.35559152 -0.43792555]\n",
      " [-0.36314634 -0.07016382]\n",
      " [-0.22267731 -0.69776455]\n",
      " [-0.37008712  0.41331941]]\n"
     ]
    }
   ],
   "source": [
    "# get top2 eigenvectors\n",
    "eigen_subset= sorted_eigenvectors[:,0:2]\n",
    "print(eigen_subset)"
   ]
  },
  {
   "cell_type": "code",
   "execution_count": 60,
   "metadata": {},
   "outputs": [
    {
     "name": "stdout",
     "output_type": "stream",
     "text": [
      "[[ 1.60753758  0.09762892]\n",
      " [ 0.48547714 -0.28194221]\n",
      " [-2.71254389 -0.36912658]\n",
      " ...\n",
      " [-6.40424732  4.3669348 ]\n",
      " [-3.00999325  0.04493382]\n",
      " [-2.03507089 -0.43831048]]\n"
     ]
    }
   ],
   "source": [
    "X_reduced=np.dot(eigen_subset.transpose(),X_meaned.transpose()).transpose()\n",
    "print(X_reduced)"
   ]
  }
 ],
 "metadata": {
  "kernelspec": {
   "display_name": "Python 3.10.1 64-bit",
   "language": "python",
   "name": "python3"
  },
  "language_info": {
   "codemirror_mode": {
    "name": "ipython",
    "version": 3
   },
   "file_extension": ".py",
   "mimetype": "text/x-python",
   "name": "python",
   "nbconvert_exporter": "python",
   "pygments_lexer": "ipython3",
   "version": "3.10.1"
  },
  "orig_nbformat": 4,
  "vscode": {
   "interpreter": {
    "hash": "08f6edec437538b5993be24a8d19dd1bd66f0a7ae79d727201cebd80cd580c21"
   }
  }
 },
 "nbformat": 4,
 "nbformat_minor": 2
}

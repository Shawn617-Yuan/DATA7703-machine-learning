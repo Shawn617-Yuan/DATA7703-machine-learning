{
 "cells": [
  {
   "cell_type": "markdown",
   "metadata": {},
   "source": [
    "## Introduction to sklearn\n",
    "\n",
    "scikit-learn (https://scikit-learn.org/stable/, also known as sklearn) is an exellent machine learning library written in Python.\n",
    "\n",
    "We illustrate how to train a machine learning model using sklearn in this section. The modules that we use include \n",
    "* [sklearn.datasets](https://scikit-learn.org/stable/modules/classes.html#module-sklearn.datasets): utilities to load various machine learning datasets.\n",
    "* [sklearn.model_selection](https://scikit-learn.org/stable/modules/classes.html#module-sklearn.model_selection): a collection of utilities for model selection, including splitting datasets, cross-validation.\n",
    "* [sklearn.linear_model](https://scikit-learn.org/stable/modules/classes.html#module-sklearn.linear_model): a collection of linear models, including OLS, logistic regression.\n",
    "* [sklearn.metrics](https://scikit-learn.org/stable/modules/classes.html#module-sklearn.metrics): a collection of performance metrics, including accuracy and MSE.\n",
    "\n",
    "**Predicting house price using linear regression**\n",
    "\n",
    "We will build a linear regression model use the Boston house price dataset. The dataset has 506 examples, and 13 features."
   ]
  },
  {
   "cell_type": "code",
   "execution_count": 1,
   "metadata": {},
   "outputs": [
    {
     "data": {
      "text/plain": [
       "((506, 13), (506,))"
      ]
     },
     "execution_count": 1,
     "metadata": {},
     "output_type": "execute_result"
    }
   ],
   "source": [
    "from sklearn.datasets import load_boston\n",
    "X, y = load_boston(return_X_y=True)\n",
    "X.shape, y.shape"
   ]
  },
  {
   "cell_type": "markdown",
   "metadata": {},
   "source": [
    "We do a random 70-30 train-test split. "
   ]
  },
  {
   "cell_type": "code",
   "execution_count": 2,
   "metadata": {},
   "outputs": [
    {
     "data": {
      "text/plain": [
       "((354, 13), (152, 13))"
      ]
     },
     "execution_count": 2,
     "metadata": {},
     "output_type": "execute_result"
    }
   ],
   "source": [
    "from sklearn.model_selection import train_test_split\n",
    "X_train, X_test, y_train, y_test = train_test_split(X, y, test_size=0.3, random_state=42)\n",
    "X_train.shape, X_test.shape"
   ]
  },
  {
   "cell_type": "markdown",
   "metadata": {},
   "source": [
    "Now we train and evaluate an ordinary least squares model."
   ]
  },
  {
   "cell_type": "code",
   "execution_count": 3,
   "metadata": {},
   "outputs": [
    {
     "name": "stdout",
     "output_type": "stream",
     "text": [
      "R2 (train) =  0.7434997532004697\n",
      "MSE (train) =  22.545481487421423\n",
      "MSE (test) =  21.517444231176903\n"
     ]
    }
   ],
   "source": [
    "from sklearn.linear_model import LinearRegression\n",
    "from sklearn.metrics import mean_squared_error\n",
    "\n",
    "reg = LinearRegression()\n",
    "reg.fit(X_train, y_train)\n",
    "print(\"R2 (train) = \", reg.score(X_train, y_train))\n",
    "print(\"MSE (train) = \", mean_squared_error(y_train, reg.predict(X_train)))\n",
    "print(\"MSE (test) = \", mean_squared_error(y_test, reg.predict(X_test)))"
   ]
  },
  {
   "cell_type": "markdown",
   "metadata": {},
   "source": [
    "We can see that sklearn has a highly streamlined process of building a machine learning model. This allows the plug-and-play of different models. For example, to train a ridge regression model, we simply need to replace the line `reg = LinearRegression()` by `reg = Ridge()` (import `Ridge` from `sklearn.linear_model` first). sklearn also contains implementations of many other more sophisticated regression models such as `sklearn.svm.SVR` for support vector regression, `sklearn.tree.DecisionTreeRegressor` for decision tree regression, `sklearn.ensemble.RandomForestRegressor` for random forest regression. \n",
    "\n",
    "Most algorithms have some hyperparameters that often need to be tuned. If you are using the default values, make sure that you know what they are, and tune them if they don't work well."
   ]
  },
  {
   "cell_type": "markdown",
   "metadata": {},
   "source": [
    "**Going further**\n",
    "\n",
    "You will find it helpful to browse the following links\n",
    "\n",
    "* A full list of the sklearn modules: https://scikit-learn.org/stable/modules/classes.html. \n",
    "* A user guide: https://scikit-learn.org/stable/user_guide.html.\n",
    "* A gallery of examples: https://scikit-learn.org/stable/auto_examples/index.html.\n"
   ]
  }
 ],
 "metadata": {
  "hide_input": false,
  "kernelspec": {
   "display_name": "Python 3",
   "language": "python",
   "name": "python3"
  },
  "language_info": {
   "codemirror_mode": {
    "name": "ipython",
    "version": 3
   },
   "file_extension": ".py",
   "mimetype": "text/x-python",
   "name": "python",
   "nbconvert_exporter": "python",
   "pygments_lexer": "ipython3",
   "version": "3.6.9"
  }
 },
 "nbformat": 4,
 "nbformat_minor": 4
}
